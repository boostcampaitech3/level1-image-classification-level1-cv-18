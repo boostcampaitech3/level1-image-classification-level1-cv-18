{
 "cells": [
  {
   "cell_type": "code",
   "execution_count": 1,
   "id": "072fb6f1-2e13-47c1-82c2-2be865392890",
   "metadata": {},
   "outputs": [],
   "source": [
    "import os\n",
    "import pandas as pd\n",
    "import numpy as np\n",
    "from PIL import Image\n",
    "import cv2\n",
    "import albumentations as A\n",
    "from albumentations.pytorch.transforms import ToTensorV2\n",
    "import ttach as tta\n",
    "\n",
    "import torch\n",
    "import torch.nn as nn\n",
    "import torch.nn.functional as F\n",
    "from torch.utils.data import Dataset, DataLoader, WeightedRandomSampler\n",
    "\n",
    "import torchvision\n",
    "from torchvision.models import efficientnet_b0\n",
    "from torchvision import transforms\n",
    "from torchvision.transforms import Resize, ToTensor, Normalize\n",
    "\n",
    "import sklearn\n",
    "from sklearn.model_selection import train_test_split\n",
    "from sklearn.metrics import confusion_matrix\n",
    "from torchsampler import ImbalancedDatasetSampler\n",
    "\n",
    "import matplotlib as mpl\n",
    "import matplotlib.pyplot as plt\n",
    "import seaborn as sns\n",
    "import itertools\n",
    "\n",
    "import time\n",
    "from tqdm import tqdm, trange\n",
    "\n",
    "import wandb\n",
    "\n",
    "import coatnet\n",
    "from efficientnet_pytorch import EfficientNet\n",
    "\n",
    "import inspect"
   ]
  },
  {
   "cell_type": "code",
   "execution_count": 3,
   "id": "bdb37e2b-c961-4e47-9c0d-56cf7a9c9f49",
   "metadata": {},
   "outputs": [],
   "source": [
    "device = torch.device('cuda:0' if torch.cuda.is_available() else 'cpu')\n",
    "\n",
    "# 훈련 데이터셋 경로\n",
    "train_dir = '/opt/ml/input/data/train'\n",
    "image_dir = '/opt/ml/input/data/train/images'"
   ]
  },
  {
   "cell_type": "code",
   "execution_count": 4,
   "id": "bd9e424f-6524-45cb-87b4-751babb2cd31",
   "metadata": {},
   "outputs": [
    {
     "data": {
      "text/html": [
       "<div>\n",
       "<style scoped>\n",
       "    .dataframe tbody tr th:only-of-type {\n",
       "        vertical-align: middle;\n",
       "    }\n",
       "\n",
       "    .dataframe tbody tr th {\n",
       "        vertical-align: top;\n",
       "    }\n",
       "\n",
       "    .dataframe thead th {\n",
       "        text-align: right;\n",
       "    }\n",
       "</style>\n",
       "<table border=\"1\" class=\"dataframe\">\n",
       "  <thead>\n",
       "    <tr style=\"text-align: right;\">\n",
       "      <th></th>\n",
       "      <th>Unnamed: 0</th>\n",
       "      <th>id</th>\n",
       "      <th>path</th>\n",
       "      <th>class</th>\n",
       "    </tr>\n",
       "  </thead>\n",
       "  <tbody>\n",
       "    <tr>\n",
       "      <th>16976</th>\n",
       "      <td>16976</td>\n",
       "      <td>6392</td>\n",
       "      <td>/opt/ml/input/data/train/images/006392_male_As...</td>\n",
       "      <td>12</td>\n",
       "    </tr>\n",
       "    <tr>\n",
       "      <th>17649</th>\n",
       "      <td>17649</td>\n",
       "      <td>6511</td>\n",
       "      <td>/opt/ml/input/data/train/images/006511_male_As...</td>\n",
       "      <td>0</td>\n",
       "    </tr>\n",
       "    <tr>\n",
       "      <th>12452</th>\n",
       "      <td>12452</td>\n",
       "      <td>4228</td>\n",
       "      <td>/opt/ml/input/data/train/images/004228_female_...</td>\n",
       "      <td>10</td>\n",
       "    </tr>\n",
       "    <tr>\n",
       "      <th>5621</th>\n",
       "      <td>5621</td>\n",
       "      <td>1540</td>\n",
       "      <td>/opt/ml/input/data/train/images/001540_male_As...</td>\n",
       "      <td>2</td>\n",
       "    </tr>\n",
       "    <tr>\n",
       "      <th>12769</th>\n",
       "      <td>12769</td>\n",
       "      <td>4288</td>\n",
       "      <td>/opt/ml/input/data/train/images/004288_female_...</td>\n",
       "      <td>17</td>\n",
       "    </tr>\n",
       "    <tr>\n",
       "      <th>11685</th>\n",
       "      <td>11685</td>\n",
       "      <td>3848</td>\n",
       "      <td>/opt/ml/input/data/train/images/003848_male_As...</td>\n",
       "      <td>1</td>\n",
       "    </tr>\n",
       "    <tr>\n",
       "      <th>13116</th>\n",
       "      <td>13116</td>\n",
       "      <td>4373</td>\n",
       "      <td>/opt/ml/input/data/train/images/004373_male_As...</td>\n",
       "      <td>2</td>\n",
       "    </tr>\n",
       "    <tr>\n",
       "      <th>57</th>\n",
       "      <td>57</td>\n",
       "      <td>10</td>\n",
       "      <td>/opt/ml/input/data/train/images/000010_female_...</td>\n",
       "      <td>16</td>\n",
       "    </tr>\n",
       "    <tr>\n",
       "      <th>1076</th>\n",
       "      <td>1076</td>\n",
       "      <td>529</td>\n",
       "      <td>/opt/ml/input/data/train/images/000529_female_...</td>\n",
       "      <td>4</td>\n",
       "    </tr>\n",
       "    <tr>\n",
       "      <th>7372</th>\n",
       "      <td>7372</td>\n",
       "      <td>1920</td>\n",
       "      <td>/opt/ml/input/data/train/images/001920_female_...</td>\n",
       "      <td>17</td>\n",
       "    </tr>\n",
       "  </tbody>\n",
       "</table>\n",
       "</div>"
      ],
      "text/plain": [
       "       Unnamed: 0    id                                               path  \\\n",
       "16976       16976  6392  /opt/ml/input/data/train/images/006392_male_As...   \n",
       "17649       17649  6511  /opt/ml/input/data/train/images/006511_male_As...   \n",
       "12452       12452  4228  /opt/ml/input/data/train/images/004228_female_...   \n",
       "5621         5621  1540  /opt/ml/input/data/train/images/001540_male_As...   \n",
       "12769       12769  4288  /opt/ml/input/data/train/images/004288_female_...   \n",
       "11685       11685  3848  /opt/ml/input/data/train/images/003848_male_As...   \n",
       "13116       13116  4373  /opt/ml/input/data/train/images/004373_male_As...   \n",
       "57             57    10  /opt/ml/input/data/train/images/000010_female_...   \n",
       "1076         1076   529  /opt/ml/input/data/train/images/000529_female_...   \n",
       "7372         7372  1920  /opt/ml/input/data/train/images/001920_female_...   \n",
       "\n",
       "       class  \n",
       "16976     12  \n",
       "17649      0  \n",
       "12452     10  \n",
       "5621       2  \n",
       "12769     17  \n",
       "11685      1  \n",
       "13116      2  \n",
       "57        16  \n",
       "1076       4  \n",
       "7372      17  "
      ]
     },
     "execution_count": 4,
     "metadata": {},
     "output_type": "execute_result"
    }
   ],
   "source": [
    "# meta 데이터와 이미지 경로를 불러옵니다.\n",
    "train_df = pd.read_csv(os.path.join(train_dir, 'train.csv'))\n",
    "train_class_df = pd.read_csv(os.path.join(train_dir, 'train_class_df.csv'))\n",
    "train_df.sample(10)\n",
    "train_class_df.sample(10)"
   ]
  },
  {
   "cell_type": "code",
   "execution_count": 5,
   "id": "119e632a-7cd8-4c14-9a86-dbc8f74f36ab",
   "metadata": {},
   "outputs": [
    {
     "name": "stdout",
     "output_type": "stream",
     "text": [
      "       id  gender   race  age                    path  age_range\n",
      "0  000001  female  Asian   45  000001_female_Asian_45          1\n",
      "1  000002  female  Asian   52  000002_female_Asian_52          1\n",
      "2  000004    male  Asian   54    000004_male_Asian_54          1\n",
      "3  000005  female  Asian   58  000005_female_Asian_58          1\n",
      "4  000006  female  Asian   59  000006_female_Asian_59          1\n"
     ]
    }
   ],
   "source": [
    "# age label 추가\n",
    "ages = []\n",
    "for row in train_df['age']:\n",
    "    if row < 30:\n",
    "        ages.append(0)\n",
    "    elif row < 60:\n",
    "        ages.append(1)\n",
    "    else:\n",
    "        ages.append(2)\n",
    "train_df['age_range'] = ages\n",
    "\n",
    "print(train_df.head(5))"
   ]
  },
  {
   "cell_type": "code",
   "execution_count": 6,
   "id": "e4dc4383-008d-47cd-b60a-bb2e90244487",
   "metadata": {},
   "outputs": [],
   "source": [
    "# Dataset 생성\n",
    "class MaskDataset(Dataset):\n",
    "    def __init__(self, df, transform=None):\n",
    "        self.path = df['path']\n",
    "        self.label = df['class']\n",
    "        self.id = df['id']\n",
    "        self.transform = transform\n",
    "    \n",
    "    def __len__(self):\n",
    "        return len(self.path)\n",
    "\n",
    "    def __getitem__(self, idx):\n",
    "        image = Image.open(self.path.iloc[idx])\n",
    "        label = np.array(self.label.iloc[idx])\n",
    "\n",
    "        if self.transform:\n",
    "            image = self.transform(image)\n",
    "            #image = transforms.Resize((256, 256))(image)\n",
    "            #image = cv2.imread(self.path.iloc[idx])\n",
    "            #image = cv2.cvtColor(image, cv2.COLOR_BGR2RGB)\n",
    "            #augmented = self.transform(image=image)\n",
    "            #image = augmented['image']\n",
    "        return image, torch.tensor(label)\n",
    "    \n",
    "    def get_labels(self):\n",
    "        return self.label"
   ]
  },
  {
   "cell_type": "code",
   "execution_count": 7,
   "id": "4d6cdddb-1cde-4dd4-9a1e-2a5bf5376477",
   "metadata": {},
   "outputs": [
    {
     "name": "stdout",
     "output_type": "stream",
     "text": [
      "       Unnamed: 0    id                                               path  \\\n",
      "17339       17339  6451  /opt/ml/input/data/train/images/006451_female_...   \n",
      "1894         1894   678  /opt/ml/input/data/train/images/000678_female_...   \n",
      "10459       10459  3567  /opt/ml/input/data/train/images/003567_female_...   \n",
      "14302       14302  5129  /opt/ml/input/data/train/images/005129_female_...   \n",
      "4598         4598  1340  /opt/ml/input/data/train/images/001340_male_As...   \n",
      "...           ...   ...                                                ...   \n",
      "937           937   378  /opt/ml/input/data/train/images/000378_female_...   \n",
      "5502         5502  1522  /opt/ml/input/data/train/images/001522_female_...   \n",
      "14513       14513  5234  /opt/ml/input/data/train/images/005234_male_As...   \n",
      "18621       18621  6737  /opt/ml/input/data/train/images/006737_female_...   \n",
      "5664         5664  1546  /opt/ml/input/data/train/images/001546_male_As...   \n",
      "\n",
      "       class  \n",
      "17339      3  \n",
      "1894       4  \n",
      "10459     15  \n",
      "14302     16  \n",
      "4598       6  \n",
      "...      ...  \n",
      "937       10  \n",
      "5502       3  \n",
      "14513      0  \n",
      "18621     15  \n",
      "5664      12  \n",
      "\n",
      "[15120 rows x 4 columns]\n"
     ]
    }
   ],
   "source": [
    "# train, valid 나누기 -> 이 코드에서는 valid만 필요\n",
    "train, valid = train_test_split(train_class_df,\n",
    "                                test_size = 0.2,\n",
    "                                shuffle = True,\n",
    "                                stratify = train_class_df['class'],\n",
    "                                random_state = 11)\n",
    "train.shape, valid.shape\n",
    "print(train)"
   ]
  },
  {
   "cell_type": "markdown",
   "id": "e34a9158-5a05-4dda-ad05-97ec6346450a",
   "metadata": {},
   "source": [
    "## Augmentation"
   ]
  },
  {
   "cell_type": "code",
   "execution_count": 8,
   "id": "d2011b0a-d3e9-47ff-ab28-e438fad3a4ce",
   "metadata": {},
   "outputs": [],
   "source": [
    "image_paths = pd.read_csv(os.path.join(train_dir, \"train_class_df.csv\"))['path']\n",
    "\n",
    "transformation1 = transforms.Compose([\n",
    "    transforms.RandomRotation(15),\n",
    "    transforms.Resize((224, 224)),\n",
    "    transforms.ToTensor(),\n",
    "    transforms.Normalize([0.485, 0.456, 0.406], [0.229, 0.224, 0.225])\n",
    "])\n",
    "\n",
    "transformation2 = A.Compose([      \n",
    "    # 수평 뒤집기\n",
    "    A.HorizontalFlip(p=0.5),\n",
    "    A.Rotate(15),\n",
    "    # Contrast Limited Adaptive Histogram Equalization 적용\n",
    "    A.CLAHE(p=0.5),\n",
    "    # 무작위로 channel을 섞기\n",
    "    A.ChannelShuffle(p= 0.05),\n",
    "    A.ChannelDropout(),\n",
    "    # normalize\n",
    "    A.GaussNoise(),\n",
    "    A.CenterCrop(224, 224),\n",
    "    ToTensorV2(),\n",
    "])\n",
    "\n",
    "transformation3 = transforms.Compose([\n",
    "    transforms.RandomRotation(30),\n",
    "    transforms.Resize((224, 224)),\n",
    "    transforms.ToTensor(),\n",
    "    transforms.Normalize((0.5,0.5,0.5),(0.5,0.5,0.5))\n",
    "])\n",
    "\n",
    "transformation4 = transforms.Compose([\n",
    "    transforms.CenterCrop((300, 200)),\n",
    "    transforms.Resize((224, 224)),\n",
    "    transforms.ToTensor(),\n",
    "    transforms.Normalize([0.485, 0.456, 0.406], [0.229, 0.224, 0.225])\n",
    "])"
   ]
  },
  {
   "cell_type": "code",
   "execution_count": 9,
   "id": "5ccf7d25-d5ad-4025-a65f-35a5fcd8f1e3",
   "metadata": {},
   "outputs": [],
   "source": [
    "valid_dataset = MaskDataset(\n",
    "                valid,\n",
    "                transform = transformation4\n",
    ")"
   ]
  },
  {
   "cell_type": "code",
   "execution_count": 10,
   "id": "5e4040e3-947a-4d4a-ba6d-ee9b7edca39e",
   "metadata": {},
   "outputs": [],
   "source": [
    "batch_size = 32\n",
    "num_workers = 4\n",
    "\n",
    "valid_dataloader = DataLoader(\n",
    "    valid_dataset,\n",
    "    batch_size = batch_size,\n",
    "    num_workers = num_workers,\n",
    "    #sampler=ImbalancedDatasetSampler(train_dataset),\n",
    "    drop_last=True\n",
    ")"
   ]
  },
  {
   "cell_type": "markdown",
   "id": "53c2d058-0167-4dab-b974-dd8c719c16ee",
   "metadata": {},
   "source": [
    "## Models"
   ]
  },
  {
   "cell_type": "code",
   "execution_count": 14,
   "id": "b158f4a5-61ab-4f6c-a3a3-9f38299cb836",
   "metadata": {},
   "outputs": [],
   "source": [
    "# EfficientNet Model from KKT\n",
    "class KKT_Effi(nn.Module):\n",
    "    def __init__(self, num_classes=18):\n",
    "        super().__init__()\n",
    "        self.models = torchvision.models.efficientnet_b0(pretrained=True)\n",
    "        self.models.classifier[1] = nn.Linear(1280, num_classes)\n",
    "\n",
    "\n",
    "\n",
    "    def forward(self, x):\n",
    "\n",
    "        return self.models(x)"
   ]
  },
  {
   "cell_type": "code",
   "execution_count": 16,
   "id": "3e5edddd-a514-4a19-ad86-f335e2dc1160",
   "metadata": {},
   "outputs": [],
   "source": [
    "# ResNet model\n",
    "class ResNet(nn.Module):\n",
    "    def __init__(self, num_classes = 18, in_channels = 3):\n",
    "        super(ResNet, self).__init__()\n",
    "        self.network = torchvision.models.resnet18(pretrained=True)\n",
    "        num_ftrs = self.network.fc.in_features\n",
    "        self.network.fc = nn.Linear(num_ftrs, num_classes)\n",
    "\n",
    "    def forward(self, x):\n",
    "        x = self.network(x)\n",
    "        return x"
   ]
  },
  {
   "cell_type": "code",
   "execution_count": 17,
   "id": "929213b2-d370-4df7-98f4-8e21d5d471c0",
   "metadata": {},
   "outputs": [],
   "source": [
    "# CoAtNet model\n",
    "class MyModel(nn.Module):\n",
    "    def __init__(self, num_classes=18):\n",
    "        super().__init__()\n",
    "\n",
    "        self.model = coatnet.coatnet_0()\n",
    "        self.fc1 = nn.Linear(1000, 128)\n",
    "        self.dropout = nn.Dropout(p=0.5)\n",
    "        self.fc2 = nn.Linear(128, num_classes)\n",
    "        \n",
    "        \n",
    "        \n",
    "    def forward(self, x):\n",
    "        x = self.model(x)\n",
    "        x = F.relu(self.fc1(x))\n",
    "        x = self.dropout(x)\n",
    "        x = self.fc2(x)\n",
    "        return x"
   ]
  },
  {
   "cell_type": "markdown",
   "id": "246cd77d-5f92-4da5-a0e8-59bb633aba99",
   "metadata": {},
   "source": [
    "## Inference"
   ]
  },
  {
   "cell_type": "markdown",
   "id": "271114d4-e24f-4fe3-be7d-97c95237296c",
   "metadata": {},
   "source": [
    "### ensemble"
   ]
  },
  {
   "cell_type": "code",
   "execution_count": 45,
   "id": "5d8c530a-97c7-4ef4-8091-28927b1ed8e8",
   "metadata": {},
   "outputs": [
    {
     "name": "stderr",
     "output_type": "stream",
     "text": [
      "100%|██████████| 118/118 [00:12<00:00,  9.41it/s]\n"
     ]
    },
    {
     "name": "stdout",
     "output_type": "stream",
     "text": [
      "tensor([[[0.0236, 0.0628, 0.0092,  ..., 0.0071, 0.0178, 0.0101],\n",
      "         [0.1015, 0.1558, 0.1931,  ..., 0.0222, 0.0159, 0.0259],\n",
      "         [0.0071, 0.3402, 0.5796,  ..., 0.0057, 0.0020, 0.0013],\n",
      "         ...,\n",
      "         [0.0057, 0.0344, 0.0071,  ..., 0.0018, 0.0066, 0.0056],\n",
      "         [0.6819, 0.1052, 0.0151,  ..., 0.0062, 0.0047, 0.0067],\n",
      "         [0.0043, 0.0992, 0.8327,  ..., 0.0032, 0.0010, 0.0015]]]) tensor([4., 0., 1.,  ..., 4., 0., 2.])\n"
     ]
    },
    {
     "name": "stderr",
     "output_type": "stream",
     "text": [
      "100%|██████████| 118/118 [00:11<00:00, 10.19it/s]\n"
     ]
    },
    {
     "name": "stdout",
     "output_type": "stream",
     "text": [
      "tensor([[[2.3612e-02, 6.2821e-02, 9.1537e-03,  ..., 7.0571e-03,\n",
      "          1.7813e-02, 1.0057e-02],\n",
      "         [1.0150e-01, 1.5576e-01, 1.9305e-01,  ..., 2.2215e-02,\n",
      "          1.5863e-02, 2.5863e-02],\n",
      "         [7.1256e-03, 3.4020e-01, 5.7956e-01,  ..., 5.7358e-03,\n",
      "          1.9503e-03, 1.2744e-03],\n",
      "         ...,\n",
      "         [5.7352e-03, 3.4354e-02, 7.1103e-03,  ..., 1.8499e-03,\n",
      "          6.5644e-03, 5.5551e-03],\n",
      "         [6.8194e-01, 1.0519e-01, 1.5120e-02,  ..., 6.2375e-03,\n",
      "          4.7257e-03, 6.7118e-03],\n",
      "         [4.3128e-03, 9.9219e-02, 8.3268e-01,  ..., 3.1577e-03,\n",
      "          9.7451e-04, 1.4951e-03]],\n",
      "\n",
      "        [[1.0491e-03, 1.9064e-03, 1.0744e-02,  ..., 1.3052e-03,\n",
      "          2.5086e-03, 3.8112e-04],\n",
      "         [8.7946e-01, 1.7661e-02, 4.4420e-03,  ..., 4.6465e-03,\n",
      "          1.4305e-03, 3.9944e-04],\n",
      "         [1.4280e-04, 9.8222e-01, 6.9996e-05,  ..., 8.1679e-03,\n",
      "          3.6283e-03, 9.9072e-04],\n",
      "         ...,\n",
      "         [1.7967e-03, 2.4337e-02, 7.5004e-03,  ..., 9.4930e-04,\n",
      "          5.2375e-04, 4.0302e-04],\n",
      "         [9.3969e-01, 9.0301e-03, 6.1710e-03,  ..., 3.5786e-04,\n",
      "          5.9097e-04, 5.3556e-04],\n",
      "         [6.1931e-04, 8.2615e-03, 9.7595e-01,  ..., 2.3021e-03,\n",
      "          5.8235e-04, 4.0193e-04]]]) tensor([4., 0., 1.,  ..., 4., 0., 2.])\n",
      "Loaded pretrained weights for efficientnet-b0\n"
     ]
    },
    {
     "name": "stderr",
     "output_type": "stream",
     "text": [
      "100%|██████████| 118/118 [00:12<00:00,  9.45it/s]\n"
     ]
    },
    {
     "name": "stdout",
     "output_type": "stream",
     "text": [
      "tensor([[[2.3612e-02, 6.2821e-02, 9.1537e-03,  ..., 7.0571e-03,\n",
      "          1.7813e-02, 1.0057e-02],\n",
      "         [1.0150e-01, 1.5576e-01, 1.9305e-01,  ..., 2.2215e-02,\n",
      "          1.5863e-02, 2.5863e-02],\n",
      "         [7.1256e-03, 3.4020e-01, 5.7956e-01,  ..., 5.7358e-03,\n",
      "          1.9503e-03, 1.2744e-03],\n",
      "         ...,\n",
      "         [5.7352e-03, 3.4354e-02, 7.1103e-03,  ..., 1.8499e-03,\n",
      "          6.5644e-03, 5.5551e-03],\n",
      "         [6.8194e-01, 1.0519e-01, 1.5120e-02,  ..., 6.2375e-03,\n",
      "          4.7257e-03, 6.7118e-03],\n",
      "         [4.3128e-03, 9.9219e-02, 8.3268e-01,  ..., 3.1577e-03,\n",
      "          9.7451e-04, 1.4951e-03]],\n",
      "\n",
      "        [[1.0491e-03, 1.9064e-03, 1.0744e-02,  ..., 1.3052e-03,\n",
      "          2.5086e-03, 3.8112e-04],\n",
      "         [8.7946e-01, 1.7661e-02, 4.4420e-03,  ..., 4.6465e-03,\n",
      "          1.4305e-03, 3.9944e-04],\n",
      "         [1.4280e-04, 9.8222e-01, 6.9996e-05,  ..., 8.1679e-03,\n",
      "          3.6283e-03, 9.9072e-04],\n",
      "         ...,\n",
      "         [1.7967e-03, 2.4337e-02, 7.5004e-03,  ..., 9.4930e-04,\n",
      "          5.2375e-04, 4.0302e-04],\n",
      "         [9.3969e-01, 9.0301e-03, 6.1710e-03,  ..., 3.5786e-04,\n",
      "          5.9097e-04, 5.3556e-04],\n",
      "         [6.1931e-04, 8.2615e-03, 9.7595e-01,  ..., 2.3021e-03,\n",
      "          5.8235e-04, 4.0193e-04]],\n",
      "\n",
      "        [[5.7639e-03, 3.6574e-03, 7.0647e-03,  ..., 4.3900e-03,\n",
      "          8.3498e-03, 2.6439e-03],\n",
      "         [7.1809e-01, 3.2697e-02, 9.9916e-03,  ..., 5.4382e-03,\n",
      "          8.5135e-03, 4.9327e-03],\n",
      "         [3.2152e-03, 9.1135e-01, 2.5719e-02,  ..., 4.0236e-03,\n",
      "          3.6383e-03, 4.2431e-03],\n",
      "         ...,\n",
      "         [1.5045e-03, 2.2217e-03, 3.0938e-03,  ..., 1.6092e-03,\n",
      "          4.0718e-03, 1.5265e-03],\n",
      "         [9.1519e-01, 1.5085e-02, 4.2438e-03,  ..., 3.0597e-03,\n",
      "          6.4174e-03, 3.0304e-03],\n",
      "         [4.2478e-03, 7.2718e-03, 9.1162e-01,  ..., 4.8148e-03,\n",
      "          7.5715e-03, 4.5044e-03]]]) tensor([4., 0., 1.,  ..., 4., 0., 2.])\n"
     ]
    },
    {
     "name": "stderr",
     "output_type": "stream",
     "text": [
      "100%|██████████| 118/118 [00:11<00:00, 10.23it/s]\n"
     ]
    },
    {
     "name": "stdout",
     "output_type": "stream",
     "text": [
      "tensor([[[2.3612e-02, 6.2821e-02, 9.1537e-03,  ..., 7.0571e-03,\n",
      "          1.7813e-02, 1.0057e-02],\n",
      "         [1.0150e-01, 1.5576e-01, 1.9305e-01,  ..., 2.2215e-02,\n",
      "          1.5863e-02, 2.5863e-02],\n",
      "         [7.1256e-03, 3.4020e-01, 5.7956e-01,  ..., 5.7358e-03,\n",
      "          1.9503e-03, 1.2744e-03],\n",
      "         ...,\n",
      "         [5.7352e-03, 3.4354e-02, 7.1103e-03,  ..., 1.8499e-03,\n",
      "          6.5644e-03, 5.5551e-03],\n",
      "         [6.8194e-01, 1.0519e-01, 1.5120e-02,  ..., 6.2375e-03,\n",
      "          4.7257e-03, 6.7118e-03],\n",
      "         [4.3128e-03, 9.9219e-02, 8.3268e-01,  ..., 3.1577e-03,\n",
      "          9.7451e-04, 1.4951e-03]],\n",
      "\n",
      "        [[1.0491e-03, 1.9064e-03, 1.0744e-02,  ..., 1.3052e-03,\n",
      "          2.5086e-03, 3.8112e-04],\n",
      "         [8.7946e-01, 1.7661e-02, 4.4420e-03,  ..., 4.6465e-03,\n",
      "          1.4305e-03, 3.9944e-04],\n",
      "         [1.4280e-04, 9.8222e-01, 6.9996e-05,  ..., 8.1679e-03,\n",
      "          3.6283e-03, 9.9072e-04],\n",
      "         ...,\n",
      "         [1.7967e-03, 2.4337e-02, 7.5004e-03,  ..., 9.4930e-04,\n",
      "          5.2375e-04, 4.0302e-04],\n",
      "         [9.3969e-01, 9.0301e-03, 6.1710e-03,  ..., 3.5786e-04,\n",
      "          5.9097e-04, 5.3556e-04],\n",
      "         [6.1931e-04, 8.2615e-03, 9.7595e-01,  ..., 2.3021e-03,\n",
      "          5.8235e-04, 4.0193e-04]],\n",
      "\n",
      "        [[5.7639e-03, 3.6574e-03, 7.0647e-03,  ..., 4.3900e-03,\n",
      "          8.3498e-03, 2.6439e-03],\n",
      "         [7.1809e-01, 3.2697e-02, 9.9916e-03,  ..., 5.4382e-03,\n",
      "          8.5135e-03, 4.9327e-03],\n",
      "         [3.2152e-03, 9.1135e-01, 2.5719e-02,  ..., 4.0236e-03,\n",
      "          3.6383e-03, 4.2431e-03],\n",
      "         ...,\n",
      "         [1.5045e-03, 2.2217e-03, 3.0938e-03,  ..., 1.6092e-03,\n",
      "          4.0718e-03, 1.5265e-03],\n",
      "         [9.1519e-01, 1.5085e-02, 4.2438e-03,  ..., 3.0597e-03,\n",
      "          6.4174e-03, 3.0304e-03],\n",
      "         [4.2478e-03, 7.2718e-03, 9.1162e-01,  ..., 4.8148e-03,\n",
      "          7.5715e-03, 4.5044e-03]],\n",
      "\n",
      "        [[1.0408e-02, 4.9634e-03, 7.2577e-03,  ..., 7.4070e-03,\n",
      "          6.4214e-03, 9.3232e-03],\n",
      "         [8.2006e-01, 1.5136e-02, 8.9444e-03,  ..., 9.0015e-03,\n",
      "          7.1973e-03, 9.9827e-03],\n",
      "         [2.0956e-03, 9.3745e-01, 5.4091e-03,  ..., 3.7857e-03,\n",
      "          3.9113e-03, 2.7825e-03],\n",
      "         ...,\n",
      "         [6.2555e-03, 1.5194e-02, 6.6946e-03,  ..., 1.1248e-02,\n",
      "          4.5101e-03, 7.6977e-03],\n",
      "         [9.0131e-01, 6.3610e-03, 6.4459e-03,  ..., 4.0332e-03,\n",
      "          5.0155e-03, 8.1460e-03],\n",
      "         [2.7978e-03, 2.0815e-02, 9.2974e-01,  ..., 3.4942e-03,\n",
      "          3.1873e-03, 3.6920e-03]]]) tensor([4., 0., 1.,  ..., 4., 0., 2.])\n",
      "tensor([4, 0, 1,  ..., 4, 0, 2])\n",
      "F1: 0.8505911185129894, Average accuracy: 0.914989406779661\n"
     ]
    },
    {
     "data": {
      "text/plain": [
       "<matplotlib.axes._subplots.AxesSubplot at 0x7fbe534a5640>"
      ]
     },
     "execution_count": 45,
     "metadata": {},
     "output_type": "execute_result"
    },
    {
     "data": {
      "image/png": "[encoded data removed]",
      "text/plain": [
       "<Figure size 432x288 with 1 Axes>"
      ]
     },
     "metadata": {
      "needs_background": "light"
     },
     "output_type": "display_data"
    }
   ],
   "source": [
    "LOAD_PATH = '/opt/ml/result/Best/Team7/'\n",
    "best_models = os.listdir(LOAD_PATH)\n",
    "total_outputs = torch.tensor([])\n",
    "for m in best_models:\n",
    "    if 'ipynb' in m:\n",
    "        continue\n",
    "    if 'three' in m:\n",
    "        continue\n",
    "\n",
    "    if 'efficient' in m:\n",
    "        model = KKT_Effi(num_classes=18).to(device)\n",
    "    elif 'mask' in m:\n",
    "        # from KKH\n",
    "        model = EfficientNet.from_pretrained('efficientnet-b0', num_classes=18).to(device)\n",
    "    elif 'Resnet' in m:\n",
    "        model = ResNet().to(device)\n",
    "    else:\n",
    "        model = MyModel().to(device)\n",
    "    model.load_state_dict(torch.load(LOAD_PATH + m))\n",
    "\n",
    "    with torch.no_grad():\n",
    "        model.eval()\n",
    "        total_labels = torch.tensor([])\n",
    "        t_outputs = torch.tensor([])\n",
    "        for val_batch in tqdm(valid_dataloader):\n",
    "            inputs, labels = val_batch\n",
    "            outputs = F.softmax(model(inputs.to(device)).cpu(), dim=1)\n",
    "            t_outputs = torch.cat((t_outputs, outputs), dim=0)\n",
    "            total_labels = torch.cat((total_labels, labels), dim = 0)       \n",
    "        total_outputs =  torch.cat((total_outputs, t_outputs.unsqueeze(0)), dim=0)\n",
    "        \n",
    "    print(total_outputs, total_labels)    \n",
    "prediction_array = torch.argmax(total_outputs.mean(axis=0), dim=1)\n",
    "print(prediction_array)\n",
    "\n",
    "insert_array = {'TF': total_labels == prediction_array, 'label':total_labels}\n",
    "\n",
    "validation_eval = pd.DataFrame(None, columns = [\"TF\", \"label\"])\n",
    "validation_eval = validation_eval.append(pd.DataFrame(data=insert_array), ignore_index=True)\n",
    "\n",
    "accuracy = sklearn.metrics.accuracy_score(prediction_array, total_labels)\n",
    "f1 = sklearn.metrics.f1_score(prediction_array, total_labels, average=\"macro\")\n",
    "print('F1: {}, Average accuracy: {}'.format(f1, accuracy))\n",
    "\n",
    "sns.countplot(\n",
    "    data = validation_eval,\n",
    "    x = \"label\",\n",
    "    hue = \"TF\"\n",
    ")"
   ]
  },
  {
   "cell_type": "markdown",
   "id": "f3a7453c-511a-44fa-ae08-6e0fe6ad8f39",
   "metadata": {},
   "source": [
    "### tta"
   ]
  },
  {
   "cell_type": "code",
   "execution_count": 26,
   "id": "d52b78b6-5a0e-4326-b7fa-0b3e2a089b91",
   "metadata": {},
   "outputs": [
    {
     "name": "stdout",
     "output_type": "stream",
     "text": [
      "Loaded pretrained weights for efficientnet-b0\n"
     ]
    },
    {
     "name": "stderr",
     "output_type": "stream",
     "text": [
      "  0%|          | 0/118 [00:00<?, ?it/s]/tmp/ipykernel_68110/4121189927.py:43: UserWarning: Implicit dimension choice for softmax has been deprecated. Change the call to include dim=X as an argument.\n",
      "  outputs = F.softmax(outputs).cpu()\n",
      "100%|██████████| 118/118 [02:09<00:00,  1.09s/it]\n"
     ]
    },
    {
     "name": "stdout",
     "output_type": "stream",
     "text": [
      "tensor([[[0.0059, 0.0033, 0.0068,  ..., 0.0045, 0.0108, 0.0030],\n",
      "         [0.7792, 0.0259, 0.0067,  ..., 0.0048, 0.0067, 0.0043],\n",
      "         [0.0038, 0.9059, 0.0277,  ..., 0.0043, 0.0033, 0.0049],\n",
      "         ...,\n",
      "         [0.0014, 0.0017, 0.0024,  ..., 0.0013, 0.0037, 0.0010],\n",
      "         [0.8633, 0.0446, 0.0055,  ..., 0.0040, 0.0073, 0.0038],\n",
      "         [0.0046, 0.0083, 0.9043,  ..., 0.0051, 0.0082, 0.0051]]]) tensor([4., 0., 1.,  ..., 4., 0., 2.])\n"
     ]
    },
    {
     "name": "stderr",
     "output_type": "stream",
     "text": [
      "100%|██████████| 118/118 [01:01<00:00,  1.91it/s]\n"
     ]
    },
    {
     "name": "stdout",
     "output_type": "stream",
     "text": [
      "tensor([[[0.0059, 0.0033, 0.0068,  ..., 0.0045, 0.0108, 0.0030],\n",
      "         [0.7792, 0.0259, 0.0067,  ..., 0.0048, 0.0067, 0.0043],\n",
      "         [0.0038, 0.9059, 0.0277,  ..., 0.0043, 0.0033, 0.0049],\n",
      "         ...,\n",
      "         [0.0014, 0.0017, 0.0024,  ..., 0.0013, 0.0037, 0.0010],\n",
      "         [0.8633, 0.0446, 0.0055,  ..., 0.0040, 0.0073, 0.0038],\n",
      "         [0.0046, 0.0083, 0.9043,  ..., 0.0051, 0.0082, 0.0051]],\n",
      "\n",
      "        [[0.0117, 0.0052, 0.0074,  ..., 0.0081, 0.0061, 0.0089],\n",
      "         [0.8611, 0.0200, 0.0046,  ..., 0.0069, 0.0048, 0.0057],\n",
      "         [0.0022, 0.9342, 0.0073,  ..., 0.0040, 0.0039, 0.0033],\n",
      "         ...,\n",
      "         [0.0067, 0.0163, 0.0070,  ..., 0.0089, 0.0052, 0.0079],\n",
      "         [0.9188, 0.0054, 0.0055,  ..., 0.0036, 0.0055, 0.0070],\n",
      "         [0.0019, 0.0114, 0.9503,  ..., 0.0027, 0.0025, 0.0028]]]) tensor([4., 0., 1.,  ..., 4., 0., 2.])\n",
      "tensor([4, 0, 1,  ..., 4, 0, 2])\n",
      "F1: 0.8071558304968679, Average accuracy: 0.881885593220339\n"
     ]
    },
    {
     "data": {
      "text/plain": [
       "<matplotlib.axes._subplots.AxesSubplot at 0x7fbee3829520>"
      ]
     },
     "execution_count": 26,
     "metadata": {},
     "output_type": "execute_result"
    },
    {
     "data": {
      "image/png": "[encoded data removed]",
      "text/plain": [
       "<Figure size 432x288 with 1 Axes>"
      ]
     },
     "metadata": {
      "needs_background": "light"
     },
     "output_type": "display_data"
    }
   ],
   "source": [
    "tf = tta.Compose(\n",
    "[\n",
    "    tta.HorizontalFlip(),\n",
    "    tta.Rotate90(angles=[0,15]),\n",
    "    tta.Multiply(factors=[0.8,0.9,1,1.1]),\n",
    "])\n",
    "\n",
    "LOAD_PATH = '/opt/ml/result/Best/Team5/'\n",
    "best_models = os.listdir(LOAD_PATH)\n",
    "total_outputs = torch.tensor([])\n",
    "\n",
    "for m in best_models:\n",
    "    if 'ipynb' in m:\n",
    "        continue\n",
    "    if 'three' in m:\n",
    "        continue   \n",
    "    #if 'Team' in m:\n",
    "    #    continue\n",
    "    \n",
    "    if 'EfficientNet' in m:\n",
    "        model = EfficientNet_MultiLabel().to(device)\n",
    "        \n",
    "    elif 'efficient' in m:\n",
    "        model = KKT_Effi(num_classes=18).to(device)\n",
    "    elif 'mask' in m:\n",
    "        model = EfficientNet.from_pretrained('efficientnet-b0', num_classes=18).to(device)\n",
    "    elif 'Resnet' in m:\n",
    "        model = ResNet().to(device)\n",
    "    else:\n",
    "        model = MyModel().to(device)\n",
    "    model.load_state_dict(torch.load(LOAD_PATH + m))\n",
    "    tta_model = tta.ClassificationTTAWrapper(model,tf)\n",
    "\n",
    "    with torch.no_grad():\n",
    "        model.eval()\n",
    "        total_labels = torch.tensor([])\n",
    "        t_outputs = torch.tensor([])\n",
    "        for val_batch in tqdm(valid_dataloader):\n",
    "            inputs, labels = val_batch\n",
    "            outputs = tta_model(inputs.to(device))\n",
    "            outputs = F.softmax(outputs).cpu()\n",
    "            t_outputs = torch.cat((t_outputs, outputs), dim=0)\n",
    "            total_labels = torch.cat((total_labels, labels), dim = 0)       \n",
    "        total_outputs =  torch.cat((total_outputs, t_outputs.unsqueeze(0)), dim=0)\n",
    "        \n",
    "    print(total_outputs, total_labels)    \n",
    "prediction_array = torch.argmax(total_outputs.mean(axis=0), dim=1)\n",
    "print(prediction_array)\n",
    "\n",
    "insert_array = {'TF': total_labels == prediction_array, 'label':total_labels}\n",
    "\n",
    "validation_eval = pd.DataFrame(None, columns = [\"TF\", \"label\"])\n",
    "validation_eval = validation_eval.append(pd.DataFrame(data=insert_array), ignore_index=True)\n",
    "\n",
    "accuarcy = sklearn.metrics.accuracy_score(prediction_array, total_labels)\n",
    "f1 = sklearn.metrics.f1_score(prediction_array, total_labels, average=\"macro\")\n",
    "print('F1: {}, Average accuracy: {}'.format(f1, accuarcy))\n",
    "\n",
    "#model = ExampleModel()\n",
    "#model.load_state_dict(torch.load(LOAD_PATH + os.listdir(LOAD_PATH)[0]))\n",
    "sns.countplot(\n",
    "    data = validation_eval,\n",
    "    x = \"label\",\n",
    "    hue = \"TF\"\n",
    ")"
   ]
  },
  {
   "cell_type": "markdown",
   "id": "4e68780b-4608-491f-a573-f264ffa50bcf",
   "metadata": {},
   "source": [
    "### inference evaluation"
   ]
  },
  {
   "cell_type": "markdown",
   "id": "17e485d8-3229-45c4-bfa9-79622bc5e354",
   "metadata": {},
   "source": [
    "#### confusion matrix"
   ]
  },
  {
   "cell_type": "code",
   "execution_count": 24,
   "id": "57864715-1c24-4bcc-bce9-6cc49ffe1ab7",
   "metadata": {},
   "outputs": [],
   "source": [
    "class_name = ['WM<30', 'WM<60', 'WM>60', 'WF<30', 'WF<60', 'WF>60', 'IM<30', 'IM<60', 'IM>60', 'IF<30', 'IF<60', 'IF>60', 'NM<30', 'NM<60', 'NM>60', 'NF<30', 'NF<60', 'NF>60']\n",
    "def plot_confusion_matrix(cm, target_names=class_name, cmap=None, normalize=True, labels=True, title='Confusion matrix'):\n",
    "    accuracy = np.trace(cm) / float(np.sum(cm))\n",
    "    misclass = 1 - accuracy\n",
    "\n",
    "    if cmap is None:\n",
    "        cmap = plt.get_cmap('Blues')\n",
    "\n",
    "    if normalize:\n",
    "        cm = cm.astype('float') / cm.sum(axis=1)[:, np.newaxis]\n",
    "        \n",
    "    plt.figure(figsize=(15, 15))\n",
    "    plt.imshow(cm, interpolation='nearest', cmap=cmap)\n",
    "    plt.title(title)\n",
    "    plt.colorbar()\n",
    "\n",
    "    thresh = cm.max() / 1.5 if normalize else cm.max() / 2\n",
    "    \n",
    "    if target_names is not None:\n",
    "        tick_marks = np.arange(len(target_names))\n",
    "        plt.xticks(tick_marks, target_names)\n",
    "        plt.yticks(tick_marks, target_names)\n",
    "    \n",
    "    if labels:\n",
    "        for i, j in itertools.product(range(cm.shape[0]), range(cm.shape[1])):\n",
    "            if normalize:\n",
    "                plt.text(j, i, \"{:0.4f}\".format(cm[i, j]),\n",
    "                         horizontalalignment=\"center\",\n",
    "                         color=\"white\" if cm[i, j] > thresh else \"black\")\n",
    "            else:\n",
    "                plt.text(j, i, \"{:,}\".format(cm[i, j]),\n",
    "                         horizontalalignment=\"center\",\n",
    "                         color=\"white\" if cm[i, j] > thresh else \"black\")\n",
    "\n",
    "    plt.tight_layout()\n",
    "    plt.ylabel('True label')\n",
    "    plt.xlabel('Predicted label\\naccuracy={:0.4f}; misclass={:0.4f}'.format(accuracy, misclass))\n",
    "    plt.show()"
   ]
  },
  {
   "cell_type": "code",
   "execution_count": 25,
   "id": "b82971ac-b50f-4cba-89b0-8599ccd684be",
   "metadata": {},
   "outputs": [
    {
     "data": {
      "image/png": "[encoded data removed]",
      "text/plain": [
       "<Figure size 1080x1080 with 2 Axes>"
      ]
     },
     "metadata": {
      "needs_background": "light"
     },
     "output_type": "display_data"
    }
   ],
   "source": [
    "confusion_mat = confusion_matrix(total_labels, prediction_array)\n",
    "plot_confusion_matrix(confusion_mat)"
   ]
  },
  {
   "cell_type": "markdown",
   "id": "a0358447-bff1-4f66-8b57-735b4d3d6889",
   "metadata": {},
   "source": [
    "## Submission"
   ]
  },
  {
   "cell_type": "code",
   "execution_count": 28,
   "id": "3f515462-0024-4007-979e-efb6d43accc3",
   "metadata": {},
   "outputs": [],
   "source": [
    "class TestDataset(Dataset):\n",
    "    def __init__(self, img_paths, transform=None):\n",
    "        self.img_paths = img_paths\n",
    "        self.transform = transform\n",
    "\n",
    "    def __getitem__(self, index):\n",
    "        image = Image.open(self.img_paths[index])\n",
    "\n",
    "        if self.transform:\n",
    "            image = self.transform(image)\n",
    "            #image = cv2.imread(self.img_paths[index])\n",
    "            #image = cv2.cvtColor(image, cv2.COLOR_BGR2RGB)\n",
    "            #augmented = self.transform(image=image)\n",
    "            #image = augmented['image']\n",
    "        return image\n",
    "\n",
    "    def __len__(self):\n",
    "        return len(self.img_paths)"
   ]
  },
  {
   "cell_type": "markdown",
   "id": "6501073f-e432-45bb-b773-bc4f7b087017",
   "metadata": {},
   "source": [
    "### ensemble"
   ]
  },
  {
   "cell_type": "code",
   "execution_count": 51,
   "id": "c2aff66f-0f07-4cc7-97b0-94565cce2d41",
   "metadata": {},
   "outputs": [
    {
     "name": "stderr",
     "output_type": "stream",
     "text": [
      "100%|██████████| 12600/12600 [03:39<00:00, 57.35it/s]\n"
     ]
    },
    {
     "name": "stdout",
     "output_type": "stream",
     "text": [
      "tensor([[[0.0018, 0.0032, 0.0031,  ..., 0.0030, 0.0051, 0.0022],\n",
      "         [0.0019, 0.0021, 0.9514,  ..., 0.0021, 0.0026, 0.0015],\n",
      "         [0.0102, 0.0106, 0.0174,  ..., 0.0049, 0.0085, 0.0833],\n",
      "         ...,\n",
      "         [0.0043, 0.0041, 0.0049,  ..., 0.0038, 0.0025, 0.0038],\n",
      "         [0.1255, 0.2824, 0.0440,  ..., 0.0132, 0.0149, 0.0076],\n",
      "         [0.0023, 0.0013, 0.0013,  ..., 0.0019, 0.0017, 0.0013]]])\n"
     ]
    },
    {
     "name": "stderr",
     "output_type": "stream",
     "text": [
      "100%|██████████| 12600/12600 [04:08<00:00, 50.65it/s]\n"
     ]
    },
    {
     "name": "stdout",
     "output_type": "stream",
     "text": [
      "tensor([[[0.0018, 0.0032, 0.0031,  ..., 0.0030, 0.0051, 0.0022],\n",
      "         [0.0019, 0.0021, 0.9514,  ..., 0.0021, 0.0026, 0.0015],\n",
      "         [0.0102, 0.0106, 0.0174,  ..., 0.0049, 0.0085, 0.0833],\n",
      "         ...,\n",
      "         [0.0043, 0.0041, 0.0049,  ..., 0.0038, 0.0025, 0.0038],\n",
      "         [0.1255, 0.2824, 0.0440,  ..., 0.0132, 0.0149, 0.0076],\n",
      "         [0.0023, 0.0013, 0.0013,  ..., 0.0019, 0.0017, 0.0013]],\n",
      "\n",
      "        [[0.0035, 0.0136, 0.0184,  ..., 0.0175, 0.0152, 0.0312],\n",
      "         [0.0244, 0.4102, 0.3360,  ..., 0.0136, 0.0084, 0.0053],\n",
      "         [0.0145, 0.0227, 0.0460,  ..., 0.0202, 0.0426, 0.1392],\n",
      "         ...,\n",
      "         [0.0174, 0.0188, 0.0352,  ..., 0.1731, 0.0480, 0.0387],\n",
      "         [0.0339, 0.5603, 0.0683,  ..., 0.0140, 0.0136, 0.0062],\n",
      "         [0.0114, 0.0303, 0.0318,  ..., 0.0157, 0.0142, 0.0085]]])\n"
     ]
    },
    {
     "name": "stderr",
     "output_type": "stream",
     "text": [
      "100%|██████████| 12600/12600 [02:29<00:00, 84.56it/s] \n"
     ]
    },
    {
     "name": "stdout",
     "output_type": "stream",
     "text": [
      "tensor([[[1.8466e-03, 3.2066e-03, 3.1246e-03,  ..., 2.9559e-03,\n",
      "          5.1358e-03, 2.1898e-03],\n",
      "         [1.9368e-03, 2.1377e-03, 9.5143e-01,  ..., 2.1427e-03,\n",
      "          2.5556e-03, 1.4822e-03],\n",
      "         [1.0178e-02, 1.0635e-02, 1.7370e-02,  ..., 4.9179e-03,\n",
      "          8.5292e-03, 8.3256e-02],\n",
      "         ...,\n",
      "         [4.2746e-03, 4.0539e-03, 4.9432e-03,  ..., 3.8013e-03,\n",
      "          2.4913e-03, 3.8460e-03],\n",
      "         [1.2545e-01, 2.8241e-01, 4.4017e-02,  ..., 1.3198e-02,\n",
      "          1.4853e-02, 7.5744e-03],\n",
      "         [2.3306e-03, 1.3460e-03, 1.2530e-03,  ..., 1.9334e-03,\n",
      "          1.7035e-03, 1.3387e-03]],\n",
      "\n",
      "        [[3.4531e-03, 1.3579e-02, 1.8435e-02,  ..., 1.7488e-02,\n",
      "          1.5155e-02, 3.1185e-02],\n",
      "         [2.4402e-02, 4.1017e-01, 3.3600e-01,  ..., 1.3555e-02,\n",
      "          8.4229e-03, 5.2816e-03],\n",
      "         [1.4511e-02, 2.2724e-02, 4.5953e-02,  ..., 2.0182e-02,\n",
      "          4.2594e-02, 1.3919e-01],\n",
      "         ...,\n",
      "         [1.7384e-02, 1.8800e-02, 3.5235e-02,  ..., 1.7308e-01,\n",
      "          4.7977e-02, 3.8674e-02],\n",
      "         [3.3917e-02, 5.6035e-01, 6.8294e-02,  ..., 1.4040e-02,\n",
      "          1.3618e-02, 6.1602e-03],\n",
      "         [1.1399e-02, 3.0302e-02, 3.1831e-02,  ..., 1.5701e-02,\n",
      "          1.4164e-02, 8.5059e-03]],\n",
      "\n",
      "        [[2.1133e-04, 1.6567e-03, 1.4845e-03,  ..., 1.8283e-02,\n",
      "          5.2673e-02, 7.5381e-04],\n",
      "         [2.6317e-04, 9.2749e-01, 1.1157e-02,  ..., 4.9185e-03,\n",
      "          2.3264e-03, 1.1106e-03],\n",
      "         [3.7110e-03, 2.1540e-03, 2.0524e-03,  ..., 1.2794e-02,\n",
      "          4.6781e-02, 4.8506e-02],\n",
      "         ...,\n",
      "         [3.2397e-03, 1.0487e-03, 1.0785e-03,  ..., 1.3837e-03,\n",
      "          2.1254e-03, 7.8987e-04],\n",
      "         [1.2624e-02, 8.9391e-01, 3.7157e-02,  ..., 2.1393e-02,\n",
      "          8.6200e-04, 4.0946e-04],\n",
      "         [1.3661e-03, 7.7844e-04, 1.4083e-03,  ..., 6.1253e-02,\n",
      "          1.0504e-02, 1.9007e-03]]])\n",
      "Loaded pretrained weights for efficientnet-b0\n"
     ]
    },
    {
     "name": "stderr",
     "output_type": "stream",
     "text": [
      "100%|██████████| 12600/12600 [05:05<00:00, 41.28it/s]\n"
     ]
    },
    {
     "name": "stdout",
     "output_type": "stream",
     "text": [
      "tensor([[[1.8466e-03, 3.2066e-03, 3.1246e-03,  ..., 2.9559e-03,\n",
      "          5.1358e-03, 2.1898e-03],\n",
      "         [1.9368e-03, 2.1377e-03, 9.5143e-01,  ..., 2.1427e-03,\n",
      "          2.5556e-03, 1.4822e-03],\n",
      "         [1.0178e-02, 1.0635e-02, 1.7370e-02,  ..., 4.9179e-03,\n",
      "          8.5292e-03, 8.3256e-02],\n",
      "         ...,\n",
      "         [4.2746e-03, 4.0539e-03, 4.9432e-03,  ..., 3.8013e-03,\n",
      "          2.4913e-03, 3.8460e-03],\n",
      "         [1.2545e-01, 2.8241e-01, 4.4017e-02,  ..., 1.3198e-02,\n",
      "          1.4853e-02, 7.5744e-03],\n",
      "         [2.3306e-03, 1.3460e-03, 1.2530e-03,  ..., 1.9334e-03,\n",
      "          1.7035e-03, 1.3387e-03]],\n",
      "\n",
      "        [[3.4531e-03, 1.3579e-02, 1.8435e-02,  ..., 1.7488e-02,\n",
      "          1.5155e-02, 3.1185e-02],\n",
      "         [2.4402e-02, 4.1017e-01, 3.3600e-01,  ..., 1.3555e-02,\n",
      "          8.4229e-03, 5.2816e-03],\n",
      "         [1.4511e-02, 2.2724e-02, 4.5953e-02,  ..., 2.0182e-02,\n",
      "          4.2594e-02, 1.3919e-01],\n",
      "         ...,\n",
      "         [1.7384e-02, 1.8800e-02, 3.5235e-02,  ..., 1.7308e-01,\n",
      "          4.7977e-02, 3.8674e-02],\n",
      "         [3.3917e-02, 5.6035e-01, 6.8294e-02,  ..., 1.4040e-02,\n",
      "          1.3618e-02, 6.1602e-03],\n",
      "         [1.1399e-02, 3.0302e-02, 3.1831e-02,  ..., 1.5701e-02,\n",
      "          1.4164e-02, 8.5059e-03]],\n",
      "\n",
      "        [[2.1133e-04, 1.6567e-03, 1.4845e-03,  ..., 1.8283e-02,\n",
      "          5.2673e-02, 7.5381e-04],\n",
      "         [2.6317e-04, 9.2749e-01, 1.1157e-02,  ..., 4.9185e-03,\n",
      "          2.3264e-03, 1.1106e-03],\n",
      "         [3.7110e-03, 2.1540e-03, 2.0524e-03,  ..., 1.2794e-02,\n",
      "          4.6781e-02, 4.8506e-02],\n",
      "         ...,\n",
      "         [3.2397e-03, 1.0487e-03, 1.0785e-03,  ..., 1.3837e-03,\n",
      "          2.1254e-03, 7.8987e-04],\n",
      "         [1.2624e-02, 8.9391e-01, 3.7157e-02,  ..., 2.1393e-02,\n",
      "          8.6200e-04, 4.0946e-04],\n",
      "         [1.3661e-03, 7.7844e-04, 1.4083e-03,  ..., 6.1253e-02,\n",
      "          1.0504e-02, 1.9007e-03]],\n",
      "\n",
      "        [[9.0971e-03, 6.9135e-03, 9.3023e-03,  ..., 8.2400e-03,\n",
      "          1.5840e-02, 1.0077e-02],\n",
      "         [2.4323e-03, 3.9783e-02, 8.9570e-01,  ..., 2.1321e-03,\n",
      "          3.8855e-03, 2.7370e-03],\n",
      "         [3.2256e-02, 2.4843e-02, 2.5653e-02,  ..., 2.0978e-02,\n",
      "          7.1687e-02, 1.1807e-01],\n",
      "         ...,\n",
      "         [1.2222e-02, 6.4141e-03, 5.1741e-03,  ..., 9.0728e-03,\n",
      "          5.9941e-03, 3.3303e-03],\n",
      "         [3.9867e-02, 1.3828e-01, 5.9923e-01,  ..., 1.3676e-02,\n",
      "          1.3094e-02, 1.6890e-02],\n",
      "         [4.0860e-03, 1.3022e-03, 2.8554e-03,  ..., 3.5527e-03,\n",
      "          3.9563e-03, 4.0613e-03]]])\n"
     ]
    },
    {
     "name": "stderr",
     "output_type": "stream",
     "text": [
      "100%|██████████| 12600/12600 [02:05<00:00, 100.29it/s]\n"
     ]
    },
    {
     "name": "stdout",
     "output_type": "stream",
     "text": [
      "tensor([[[1.8466e-03, 3.2066e-03, 3.1246e-03,  ..., 2.9559e-03,\n",
      "          5.1358e-03, 2.1898e-03],\n",
      "         [1.9368e-03, 2.1377e-03, 9.5143e-01,  ..., 2.1427e-03,\n",
      "          2.5556e-03, 1.4822e-03],\n",
      "         [1.0178e-02, 1.0635e-02, 1.7370e-02,  ..., 4.9179e-03,\n",
      "          8.5292e-03, 8.3256e-02],\n",
      "         ...,\n",
      "         [4.2746e-03, 4.0539e-03, 4.9432e-03,  ..., 3.8013e-03,\n",
      "          2.4913e-03, 3.8460e-03],\n",
      "         [1.2545e-01, 2.8241e-01, 4.4017e-02,  ..., 1.3198e-02,\n",
      "          1.4853e-02, 7.5744e-03],\n",
      "         [2.3306e-03, 1.3460e-03, 1.2530e-03,  ..., 1.9334e-03,\n",
      "          1.7035e-03, 1.3387e-03]],\n",
      "\n",
      "        [[3.4531e-03, 1.3579e-02, 1.8435e-02,  ..., 1.7488e-02,\n",
      "          1.5155e-02, 3.1185e-02],\n",
      "         [2.4402e-02, 4.1017e-01, 3.3600e-01,  ..., 1.3555e-02,\n",
      "          8.4229e-03, 5.2816e-03],\n",
      "         [1.4511e-02, 2.2724e-02, 4.5953e-02,  ..., 2.0182e-02,\n",
      "          4.2594e-02, 1.3919e-01],\n",
      "         ...,\n",
      "         [1.7384e-02, 1.8800e-02, 3.5235e-02,  ..., 1.7308e-01,\n",
      "          4.7977e-02, 3.8674e-02],\n",
      "         [3.3917e-02, 5.6035e-01, 6.8294e-02,  ..., 1.4040e-02,\n",
      "          1.3618e-02, 6.1602e-03],\n",
      "         [1.1399e-02, 3.0302e-02, 3.1831e-02,  ..., 1.5701e-02,\n",
      "          1.4164e-02, 8.5059e-03]],\n",
      "\n",
      "        [[2.1133e-04, 1.6567e-03, 1.4845e-03,  ..., 1.8283e-02,\n",
      "          5.2673e-02, 7.5381e-04],\n",
      "         [2.6317e-04, 9.2749e-01, 1.1157e-02,  ..., 4.9185e-03,\n",
      "          2.3264e-03, 1.1106e-03],\n",
      "         [3.7110e-03, 2.1540e-03, 2.0524e-03,  ..., 1.2794e-02,\n",
      "          4.6781e-02, 4.8506e-02],\n",
      "         ...,\n",
      "         [3.2397e-03, 1.0487e-03, 1.0785e-03,  ..., 1.3837e-03,\n",
      "          2.1254e-03, 7.8987e-04],\n",
      "         [1.2624e-02, 8.9391e-01, 3.7157e-02,  ..., 2.1393e-02,\n",
      "          8.6200e-04, 4.0946e-04],\n",
      "         [1.3661e-03, 7.7844e-04, 1.4083e-03,  ..., 6.1253e-02,\n",
      "          1.0504e-02, 1.9007e-03]],\n",
      "\n",
      "        [[9.0971e-03, 6.9135e-03, 9.3023e-03,  ..., 8.2400e-03,\n",
      "          1.5840e-02, 1.0077e-02],\n",
      "         [2.4323e-03, 3.9783e-02, 8.9570e-01,  ..., 2.1321e-03,\n",
      "          3.8855e-03, 2.7370e-03],\n",
      "         [3.2256e-02, 2.4843e-02, 2.5653e-02,  ..., 2.0978e-02,\n",
      "          7.1687e-02, 1.1807e-01],\n",
      "         ...,\n",
      "         [1.2222e-02, 6.4141e-03, 5.1741e-03,  ..., 9.0728e-03,\n",
      "          5.9941e-03, 3.3303e-03],\n",
      "         [3.9867e-02, 1.3828e-01, 5.9923e-01,  ..., 1.3676e-02,\n",
      "          1.3094e-02, 1.6890e-02],\n",
      "         [4.0860e-03, 1.3022e-03, 2.8554e-03,  ..., 3.5527e-03,\n",
      "          3.9563e-03, 4.0613e-03]],\n",
      "\n",
      "        [[6.1860e-03, 4.4764e-03, 1.1065e-02,  ..., 6.9330e-03,\n",
      "          8.4697e-03, 8.5640e-03],\n",
      "         [2.4759e-03, 1.1678e-02, 9.2810e-01,  ..., 4.7705e-03,\n",
      "          2.2906e-03, 2.2043e-03],\n",
      "         [1.0939e-02, 1.2168e-02, 3.9478e-02,  ..., 8.1954e-03,\n",
      "          2.4680e-02, 3.4929e-01],\n",
      "         ...,\n",
      "         [2.2624e-03, 3.5185e-03, 2.9562e-03,  ..., 2.6096e-03,\n",
      "          3.0521e-03, 3.2313e-03],\n",
      "         [1.2221e-02, 7.4902e-01, 1.4788e-01,  ..., 4.8917e-03,\n",
      "          5.9298e-03, 3.8767e-03],\n",
      "         [2.7937e-03, 2.0661e-03, 2.5083e-03,  ..., 4.2662e-03,\n",
      "          4.4849e-03, 2.3606e-03]]])\n",
      "tensor([14,  2, 14,  ...,  9,  1,  8])\n",
      "Submission file generated..!\n"
     ]
    }
   ],
   "source": [
    "LOAD_PATH = '/opt/ml/result/Best/Team7/'\n",
    "test_dir = '/opt/ml/input/data/eval'\n",
    "\n",
    "submission = pd.read_csv(os.path.join(test_dir, 'info.csv'))\n",
    "image_dir = os.path.join(test_dir, 'images')\n",
    "image_paths = [os.path.join(image_dir, img_id) for img_id in submission.ImageID]\n",
    "\n",
    "test_dataset = TestDataset(image_paths, transform = transformation4)\n",
    "loader = DataLoader(\n",
    "    test_dataset,\n",
    "    shuffle=False,\n",
    "    num_workers=num_workers\n",
    ")\n",
    "\n",
    "best_models = os.listdir(LOAD_PATH)\n",
    "total_outputs = torch.tensor([])\n",
    "for m in best_models:\n",
    "    if 'ipynb' in m:\n",
    "        continue\n",
    "    if 'three' in m:\n",
    "        continue\n",
    "        \n",
    "    elif 'efficient' in m:\n",
    "        model = KKT_Effi(num_classes=18).to(device)\n",
    "    elif 'mask' in m:\n",
    "        model = EfficientNet.from_pretrained('efficientnet-b0', num_classes=18).to(device)\n",
    "    elif 'Resnet' in m:\n",
    "        model = ResNet().to(device)\n",
    "    elif 'three' in m:\n",
    "        continue\n",
    "    else:\n",
    "        model = MyModel().to(device)\n",
    "    model.load_state_dict(torch.load(LOAD_PATH + m))\n",
    "\n",
    "    with torch.no_grad():\n",
    "        model.eval()\n",
    "        t_outputs = torch.tensor([])\n",
    "        for val_batch in tqdm(loader):            \n",
    "            outputs = F.softmax(model(val_batch.to(device, dtype=torch.float32)).cpu(), dim=1)\n",
    "            t_outputs = torch.cat((t_outputs, outputs), dim=0)   \n",
    "        total_outputs =  torch.cat((total_outputs, t_outputs.unsqueeze(0)), dim=0)\n",
    "        \n",
    "    print(total_outputs)    \n",
    "prediction_array = torch.argmax(total_outputs.mean(axis=0), dim=1)\n",
    "print(prediction_array)\n",
    "submission['ans'] = prediction_array\n",
    "submission.to_csv(os.path.join(test_dir, 'submission.csv'), index=False)\n",
    "print(\"Submission file generated..!\")"
   ]
  },
  {
   "cell_type": "markdown",
   "id": "1bec7969-9c06-4a23-b341-27b7ea7ce677",
   "metadata": {},
   "source": [
    "### tta"
   ]
  },
  {
   "cell_type": "code",
   "execution_count": 57,
   "id": "375256f4-33b1-4137-a0a7-2043dade40fe",
   "metadata": {},
   "outputs": [
    {
     "name": "stderr",
     "output_type": "stream",
     "text": [
      "100%|██████████| 12600/12600 [37:04<00:00,  5.66it/s]\n"
     ]
    },
    {
     "name": "stdout",
     "output_type": "stream",
     "text": [
      "tensor([[[0.0026, 0.0131, 0.0087,  ..., 0.0121, 0.0166, 0.0138],\n",
      "         [0.0343, 0.3637, 0.2850,  ..., 0.0167, 0.0118, 0.0084],\n",
      "         [0.0174, 0.0282, 0.0400,  ..., 0.0204, 0.0686, 0.1531],\n",
      "         ...,\n",
      "         [0.0203, 0.0245, 0.0416,  ..., 0.1611, 0.0503, 0.0392],\n",
      "         [0.0224, 0.6892, 0.0561,  ..., 0.0097, 0.0094, 0.0034],\n",
      "         [0.0113, 0.0233, 0.0403,  ..., 0.0149, 0.0121, 0.0109]]]) tensor([4., 0., 1.,  ..., 4., 0., 2.])\n"
     ]
    },
    {
     "name": "stderr",
     "output_type": "stream",
     "text": [
      "100%|██████████| 12600/12600 [08:54<00:00, 23.58it/s]\n",
      "  0%|          | 0/12600 [00:00<?, ?it/s]"
     ]
    },
    {
     "name": "stdout",
     "output_type": "stream",
     "text": [
      "tensor([[[2.6327e-03, 1.3065e-02, 8.6945e-03,  ..., 1.2138e-02,\n",
      "          1.6590e-02, 1.3815e-02],\n",
      "         [3.4264e-02, 3.6370e-01, 2.8497e-01,  ..., 1.6733e-02,\n",
      "          1.1781e-02, 8.3753e-03],\n",
      "         [1.7439e-02, 2.8225e-02, 3.9994e-02,  ..., 2.0390e-02,\n",
      "          6.8561e-02, 1.5314e-01],\n",
      "         ...,\n",
      "         [2.0288e-02, 2.4516e-02, 4.1560e-02,  ..., 1.6108e-01,\n",
      "          5.0337e-02, 3.9171e-02],\n",
      "         [2.2355e-02, 6.8916e-01, 5.6104e-02,  ..., 9.7398e-03,\n",
      "          9.4342e-03, 3.4021e-03],\n",
      "         [1.1315e-02, 2.3257e-02, 4.0328e-02,  ..., 1.4941e-02,\n",
      "          1.2130e-02, 1.0936e-02]],\n",
      "\n",
      "        [[2.4611e-04, 2.2259e-03, 4.0374e-03,  ..., 1.1243e-02,\n",
      "          3.1737e-02, 4.0405e-04],\n",
      "         [2.8814e-04, 8.6655e-01, 1.5966e-02,  ..., 3.0559e-03,\n",
      "          1.5199e-03, 8.6711e-04],\n",
      "         [2.0236e-03, 4.4097e-03, 7.0924e-03,  ..., 9.5996e-03,\n",
      "          8.3819e-02, 4.1251e-02],\n",
      "         ...,\n",
      "         [4.8723e-03, 3.0930e-03, 1.9718e-03,  ..., 1.6114e-03,\n",
      "          2.5227e-03, 8.1363e-04],\n",
      "         [1.1767e-02, 9.2533e-01, 1.6673e-02,  ..., 1.8170e-02,\n",
      "          8.8647e-04, 4.5337e-04],\n",
      "         [2.0743e-03, 1.0807e-03, 2.0288e-03,  ..., 4.7625e-02,\n",
      "          1.0029e-02, 2.0529e-03]]]) tensor([4., 0., 1.,  ..., 4., 0., 2.])\n",
      "Loaded pretrained weights for efficientnet-b0\n"
     ]
    },
    {
     "name": "stderr",
     "output_type": "stream",
     "text": [
      "100%|██████████| 12600/12600 [42:59<00:00,  4.88it/s] \n"
     ]
    },
    {
     "name": "stdout",
     "output_type": "stream",
     "text": [
      "tensor([[[2.6327e-03, 1.3065e-02, 8.6945e-03,  ..., 1.2138e-02,\n",
      "          1.6590e-02, 1.3815e-02],\n",
      "         [3.4264e-02, 3.6370e-01, 2.8497e-01,  ..., 1.6733e-02,\n",
      "          1.1781e-02, 8.3753e-03],\n",
      "         [1.7439e-02, 2.8225e-02, 3.9994e-02,  ..., 2.0390e-02,\n",
      "          6.8561e-02, 1.5314e-01],\n",
      "         ...,\n",
      "         [2.0288e-02, 2.4516e-02, 4.1560e-02,  ..., 1.6108e-01,\n",
      "          5.0337e-02, 3.9171e-02],\n",
      "         [2.2355e-02, 6.8916e-01, 5.6104e-02,  ..., 9.7398e-03,\n",
      "          9.4342e-03, 3.4021e-03],\n",
      "         [1.1315e-02, 2.3257e-02, 4.0328e-02,  ..., 1.4941e-02,\n",
      "          1.2130e-02, 1.0936e-02]],\n",
      "\n",
      "        [[2.4611e-04, 2.2259e-03, 4.0374e-03,  ..., 1.1243e-02,\n",
      "          3.1737e-02, 4.0405e-04],\n",
      "         [2.8814e-04, 8.6655e-01, 1.5966e-02,  ..., 3.0559e-03,\n",
      "          1.5199e-03, 8.6711e-04],\n",
      "         [2.0236e-03, 4.4097e-03, 7.0924e-03,  ..., 9.5996e-03,\n",
      "          8.3819e-02, 4.1251e-02],\n",
      "         ...,\n",
      "         [4.8723e-03, 3.0930e-03, 1.9718e-03,  ..., 1.6114e-03,\n",
      "          2.5227e-03, 8.1363e-04],\n",
      "         [1.1767e-02, 9.2533e-01, 1.6673e-02,  ..., 1.8170e-02,\n",
      "          8.8647e-04, 4.5337e-04],\n",
      "         [2.0743e-03, 1.0807e-03, 2.0288e-03,  ..., 4.7625e-02,\n",
      "          1.0029e-02, 2.0529e-03]],\n",
      "\n",
      "        [[1.0419e-02, 7.6227e-03, 1.1257e-02,  ..., 9.0554e-03,\n",
      "          1.4149e-02, 8.5933e-03],\n",
      "         [2.6537e-03, 2.4066e-02, 9.0642e-01,  ..., 2.3535e-03,\n",
      "          4.6376e-03, 3.4770e-03],\n",
      "         [2.7631e-02, 1.9826e-02, 2.2040e-02,  ..., 1.7891e-02,\n",
      "          4.5152e-02, 8.5196e-02],\n",
      "         ...,\n",
      "         [9.3616e-03, 5.8718e-03, 5.0998e-03,  ..., 9.2792e-03,\n",
      "          6.9238e-03, 3.1931e-03],\n",
      "         [4.4618e-02, 3.4825e-01, 3.1490e-01,  ..., 1.7446e-02,\n",
      "          1.5244e-02, 1.6570e-02],\n",
      "         [3.8381e-03, 1.3768e-03, 3.2446e-03,  ..., 3.5282e-03,\n",
      "          3.6323e-03, 3.6008e-03]]]) tensor([4., 0., 1.,  ..., 4., 0., 2.])\n"
     ]
    },
    {
     "name": "stderr",
     "output_type": "stream",
     "text": [
      "100%|██████████| 12600/12600 [08:48<00:00, 23.85it/s]"
     ]
    },
    {
     "name": "stdout",
     "output_type": "stream",
     "text": [
      "tensor([[[2.6327e-03, 1.3065e-02, 8.6945e-03,  ..., 1.2138e-02,\n",
      "          1.6590e-02, 1.3815e-02],\n",
      "         [3.4264e-02, 3.6370e-01, 2.8497e-01,  ..., 1.6733e-02,\n",
      "          1.1781e-02, 8.3753e-03],\n",
      "         [1.7439e-02, 2.8225e-02, 3.9994e-02,  ..., 2.0390e-02,\n",
      "          6.8561e-02, 1.5314e-01],\n",
      "         ...,\n",
      "         [2.0288e-02, 2.4516e-02, 4.1560e-02,  ..., 1.6108e-01,\n",
      "          5.0337e-02, 3.9171e-02],\n",
      "         [2.2355e-02, 6.8916e-01, 5.6104e-02,  ..., 9.7398e-03,\n",
      "          9.4342e-03, 3.4021e-03],\n",
      "         [1.1315e-02, 2.3257e-02, 4.0328e-02,  ..., 1.4941e-02,\n",
      "          1.2130e-02, 1.0936e-02]],\n",
      "\n",
      "        [[2.4611e-04, 2.2259e-03, 4.0374e-03,  ..., 1.1243e-02,\n",
      "          3.1737e-02, 4.0405e-04],\n",
      "         [2.8814e-04, 8.6655e-01, 1.5966e-02,  ..., 3.0559e-03,\n",
      "          1.5199e-03, 8.6711e-04],\n",
      "         [2.0236e-03, 4.4097e-03, 7.0924e-03,  ..., 9.5996e-03,\n",
      "          8.3819e-02, 4.1251e-02],\n",
      "         ...,\n",
      "         [4.8723e-03, 3.0930e-03, 1.9718e-03,  ..., 1.6114e-03,\n",
      "          2.5227e-03, 8.1363e-04],\n",
      "         [1.1767e-02, 9.2533e-01, 1.6673e-02,  ..., 1.8170e-02,\n",
      "          8.8647e-04, 4.5337e-04],\n",
      "         [2.0743e-03, 1.0807e-03, 2.0288e-03,  ..., 4.7625e-02,\n",
      "          1.0029e-02, 2.0529e-03]],\n",
      "\n",
      "        [[1.0419e-02, 7.6227e-03, 1.1257e-02,  ..., 9.0554e-03,\n",
      "          1.4149e-02, 8.5933e-03],\n",
      "         [2.6537e-03, 2.4066e-02, 9.0642e-01,  ..., 2.3535e-03,\n",
      "          4.6376e-03, 3.4770e-03],\n",
      "         [2.7631e-02, 1.9826e-02, 2.2040e-02,  ..., 1.7891e-02,\n",
      "          4.5152e-02, 8.5196e-02],\n",
      "         ...,\n",
      "         [9.3616e-03, 5.8718e-03, 5.0998e-03,  ..., 9.2792e-03,\n",
      "          6.9238e-03, 3.1931e-03],\n",
      "         [4.4618e-02, 3.4825e-01, 3.1490e-01,  ..., 1.7446e-02,\n",
      "          1.5244e-02, 1.6570e-02],\n",
      "         [3.8381e-03, 1.3768e-03, 3.2446e-03,  ..., 3.5282e-03,\n",
      "          3.6323e-03, 3.6008e-03]],\n",
      "\n",
      "        [[6.7723e-03, 5.3564e-03, 8.1634e-03,  ..., 7.6208e-03,\n",
      "          9.0789e-03, 1.0624e-02],\n",
      "         [2.7176e-03, 2.9816e-02, 8.9494e-01,  ..., 5.0245e-03,\n",
      "          3.1152e-03, 2.5834e-03],\n",
      "         [1.1059e-02, 1.2395e-02, 3.6879e-02,  ..., 8.6800e-03,\n",
      "          2.9366e-02, 1.4202e-01],\n",
      "         ...,\n",
      "         [2.9307e-03, 4.1914e-03, 3.6842e-03,  ..., 4.2771e-03,\n",
      "          3.9506e-03, 3.5709e-03],\n",
      "         [2.6725e-02, 6.8980e-01, 1.2556e-01,  ..., 7.7784e-03,\n",
      "          8.9901e-03, 4.1905e-03],\n",
      "         [3.0273e-03, 2.1232e-03, 2.8807e-03,  ..., 4.7880e-03,\n",
      "          4.2869e-03, 2.3787e-03]]]) tensor([4., 0., 1.,  ..., 4., 0., 2.])\n",
      "tensor([14,  2, 14,  ...,  9,  1,  8])\n",
      "Submission file generated..!\n"
     ]
    },
    {
     "name": "stderr",
     "output_type": "stream",
     "text": [
      "\n"
     ]
    }
   ],
   "source": [
    "import ttach as tta\n",
    "\n",
    "tf = tta.Compose(\n",
    "[\n",
    "    tta.HorizontalFlip(),\n",
    "    tta.Rotate90(angles=[0,15]),\n",
    "    tta.Multiply(factors=[0.8,0.9,1,1.1]),\n",
    "])\n",
    "\n",
    "LOAD_PATH = '/opt/ml/result/Best/Team7/'\n",
    "test_dir = '/opt/ml/input/data/eval'\n",
    "\n",
    "submission = pd.read_csv(os.path.join(test_dir, 'info.csv'))\n",
    "image_dir = os.path.join(test_dir, 'images')\n",
    "image_paths = [os.path.join(image_dir, img_id) for img_id in submission.ImageID]\n",
    "\n",
    "test_dataset = TestDataset(image_paths, transform = transformation4)\n",
    "loader = DataLoader(\n",
    "    test_dataset,\n",
    "    shuffle=False,\n",
    "    num_workers=num_workers\n",
    ")\n",
    "\n",
    "best_models = os.listdir(LOAD_PATH)\n",
    "total_outputs = torch.tensor([])\n",
    "for m in best_models:\n",
    "    if 'ipynb' in m:\n",
    "        continue\n",
    "    if 'three' in m:\n",
    "        continue\n",
    "        \n",
    "    elif 'efficient' in m:\n",
    "        model = KKT_Effi(num_classes=18).to(device)\n",
    "    elif 'mask' in m:\n",
    "        model = EfficientNet.from_pretrained('efficientnet-b0', num_classes=18).to(device)\n",
    "    elif 'Resnet' in m:\n",
    "        model = ResNet().to(device)\n",
    "    elif 'three' in m:\n",
    "        continue\n",
    "    else:\n",
    "        model = MyModel().to(device)\n",
    "    model.load_state_dict(torch.load(LOAD_PATH + m))\n",
    "    tta_model = tta.ClassificationTTAWrapper(model,tf)\n",
    "\n",
    "    with torch.no_grad():\n",
    "        model.eval()\n",
    "        t_outputs = torch.tensor([])\n",
    "        for val_batch in tqdm(loader):\n",
    "            outputs = F.softmax(tta_model(val_batch.to(device, dtype=torch.float32)).cpu(), dim=1)\n",
    "            t_outputs = torch.cat((t_outputs, outputs), dim=0)   \n",
    "        total_outputs =  torch.cat((total_outputs, t_outputs.unsqueeze(0)), dim=0)\n",
    "        \n",
    "    print(total_outputs, total_labels)    \n",
    "prediction_array = torch.argmax(total_outputs.mean(axis=0), dim=1)\n",
    "print(prediction_array)\n",
    "submission['ans'] = prediction_array\n",
    "submission.to_csv(os.path.join(test_dir, 'submission.csv'), index=False)\n",
    "print(\"Submission file generated..!\")"
   ]
  },
  {
   "cell_type": "markdown",
   "id": "37ebb54a-f1c3-47db-ab57-d8b2f087b399",
   "metadata": {},
   "source": [
    "### submission 개형"
   ]
  },
  {
   "cell_type": "code",
   "execution_count": 50,
   "id": "7f76ae3b-94f6-43cc-aeb8-827b5820ebed",
   "metadata": {},
   "outputs": [
    {
     "data": {
      "text/plain": [
       "<matplotlib.axes._subplots.AxesSubplot at 0x7fbe258aae80>"
      ]
     },
     "execution_count": 50,
     "metadata": {},
     "output_type": "execute_result"
    },
    {
     "data": {
      "image/png": "[encoded data removed]",
      "text/plain": [
       "<Figure size 432x288 with 1 Axes>"
      ]
     },
     "metadata": {
      "needs_background": "light"
     },
     "output_type": "display_data"
    }
   ],
   "source": [
    "submission = pd.read_csv(os.path.join(test_dir, \"submission_team7.csv\"))\n",
    "sns.countplot(\n",
    "    data = submission,\n",
    "    x = \"ans\",\n",
    ")"
   ]
  },
  {
   "cell_type": "markdown",
   "id": "2880e17c-5db8-4491-b91b-dafcb26dcd25",
   "metadata": {},
   "source": [
    "### 지금까지의 best submission과 비교"
   ]
  },
  {
   "cell_type": "code",
   "execution_count": null,
   "id": "0dc816bc-ff6e-45a3-892f-941120a4b91b",
   "metadata": {
    "pycharm": {
     "name": "#%%\n"
    }
   },
   "outputs": [],
   "source": [
    "# submission: KKT+KKH, TTA\n",
    "\n",
    "test_dir = '/opt/ml/input/data/eval'\n",
    "\n",
    "submission_best = pd.read_csv(os.path.join(test_dir, \"submission_team7.csv\"))\n",
    "submission_compare = pd.read_csv(os.path.join(test_dir, \"submission_team8.csv\"))\n",
    "\n",
    "submission_best_ans = submission_best['ans'].tolist()\n",
    "submission_compare_ans = submission_compare['ans'].tolist()\n",
    "\n",
    "f1 = sklearn.metrics.f1_score(submission_compare_ans, submission_best_ans, average=\"macro\")\n",
    "print('F1: {}'.format(f1))\n",
    "\n",
    "compare_matrix = confusion_matrix(submission_best_ans, submission_compare_ans)\n",
    "plot_confusion_matrix(compare_matrix)\n",
    "#plt.ylabel('best submission')\n",
    "#plt.xlabel('compare submission\\naccuracy={:0.4f}; misclass={:0.4f}'.format(accuracy, misclass))"
   ]
  }
 ],
 "metadata": {
  "kernelspec": {
   "display_name": "Python 3 (ipykernel)",
   "language": "python",
   "name": "python3"
  },
  "language_info": {
   "codemirror_mode": {
    "name": "ipython",
    "version": 3
   },
   "file_extension": ".py",
   "mimetype": "text/x-python",
   "name": "python",
   "nbconvert_exporter": "python",
   "pygments_lexer": "ipython3",
   "version": "3.8.5"
  }
 },
 "nbformat": 4,
 "nbformat_minor": 5
}